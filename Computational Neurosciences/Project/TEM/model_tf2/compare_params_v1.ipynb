{
 "cells": [
  {
   "cell_type": "code",
   "execution_count": 3,
   "metadata": {
    "pycharm": {
     "name": "#%%\n"
    }
   },
   "outputs": [
    {
     "name": "stdout",
     "output_type": "stream",
     "text": [
      "The autoreload extension is already loaded. To reload it, use:\n",
      "  %reload_ext autoreload\n",
      "params yes: C:/Users/gaumu/Desktop/TEM_linux/Summaries/2024-03-11/run0\n",
      "\n",
      "params not: C:\\Users\\gaumu\\Desktop\\TEM_linux\\Summaries2024-03-13/run0\n",
      "\n"
     ]
    },
    {
     "ename": "ValueError",
     "evalue": "NO PARAMS FOUND: C:\\Users\\gaumu\\Desktop\\TEM_linux\\Summaries2024-03-13/run0",
     "output_type": "error",
     "traceback": [
      "\u001b[1;31m---------------------------------------------------------------------------\u001b[0m",
      "\u001b[1;31mValueError\u001b[0m                                Traceback (most recent call last)",
      "Cell \u001b[1;32mIn[3], line 18\u001b[0m\n\u001b[0;32m     15\u001b[0m date \u001b[38;5;241m=\u001b[39m \u001b[38;5;124m'\u001b[39m\u001b[38;5;124m2024-03-13\u001b[39m\u001b[38;5;124m'\u001b[39m\n\u001b[0;32m     16\u001b[0m run \u001b[38;5;241m=\u001b[39m \u001b[38;5;241m0\u001b[39m\n\u001b[1;32m---> 18\u001b[0m params_2, saved_dir_2 \u001b[38;5;241m=\u001b[39m \u001b[43mparameters\u001b[49m\u001b[38;5;241;43m.\u001b[39;49m\u001b[43mget_params\u001b[49m\u001b[43m(\u001b[49m\u001b[43msave_dirs\u001b[49m\u001b[43m,\u001b[49m\u001b[43m \u001b[49m\u001b[43mdate\u001b[49m\u001b[43m,\u001b[49m\u001b[43m \u001b[49m\u001b[43mrun\u001b[49m\u001b[43m,\u001b[49m\u001b[43m \u001b[49m\u001b[43mnot_this_dir\u001b[49m\u001b[38;5;241;43m=\u001b[39;49m\u001b[43msaved_dir_1\u001b[49m\u001b[43m)\u001b[49m\n\u001b[0;32m     20\u001b[0m compared \u001b[38;5;241m=\u001b[39m parameters\u001b[38;5;241m.\u001b[39mcompare_params(params_1, params_2)\n\u001b[0;32m     21\u001b[0m \u001b[38;5;28;01mfor\u001b[39;00m message \u001b[38;5;129;01min\u001b[39;00m \u001b[38;5;28msorted\u001b[39m(compared):\n",
      "File \u001b[1;32mc:\\Users\\gaumu\\Desktop\\TEM_linux\\model_tf2\\parameters.py:408\u001b[0m, in \u001b[0;36mget_params\u001b[1;34m(save_dirs, date, run, not_this_dir, print_where)\u001b[0m\n\u001b[0;32m    405\u001b[0m     \u001b[38;5;28mprint\u001b[39m(\u001b[38;5;124m'\u001b[39m\u001b[38;5;124m'\u001b[39m)\n\u001b[0;32m    407\u001b[0m \u001b[38;5;28;01mif\u001b[39;00m params_1 \u001b[38;5;129;01mis\u001b[39;00m \u001b[38;5;28;01mNone\u001b[39;00m:\n\u001b[1;32m--> 408\u001b[0m     \u001b[38;5;28;01mraise\u001b[39;00m \u001b[38;5;167;01mValueError\u001b[39;00m(\u001b[38;5;124m'\u001b[39m\u001b[38;5;124mNO PARAMS FOUND: \u001b[39m\u001b[38;5;124m'\u001b[39m \u001b[38;5;241m+\u001b[39m savedir1)\n\u001b[0;32m    409\u001b[0m \u001b[38;5;28;01melse\u001b[39;00m:\n\u001b[0;32m    410\u001b[0m     saved_dir_1 \u001b[38;5;241m=\u001b[39m savedir1[:]\n",
      "\u001b[1;31mValueError\u001b[0m: NO PARAMS FOUND: C:\\Users\\gaumu\\Desktop\\TEM_linux\\Summaries2024-03-13/run0"
     ]
    }
   ],
   "source": [
    "%load_ext autoreload\n",
    "%autoreload 2\n",
    "\n",
    "import numpy as np\n",
    "import parameters\n",
    "\n",
    "\n",
    "save_dirs = r\"C:/Users/gaumu/Desktop/TEM_linux/Summaries/\"\n",
    "date = '2024-03-11'\n",
    "run = 0\n",
    "\n",
    "params_1, saved_dir_1 = parameters.get_params(save_dirs, date, run)\n",
    "\n",
    "save_dirs = r\"C:/Users/gaumu\\Desktop/TEM_linux/Summaries/\"\n",
    "date = '2024-03-13'\n",
    "run = 0\n",
    "\n",
    "params_2, saved_dir_2 = parameters.get_params(save_dirs, date, run, not_this_dir=saved_dir_1)\n",
    "\n",
    "compared = parameters.compare_params(params_1, params_2)\n",
    "for message in sorted(compared):\n",
    "    print(message)"
   ]
  },
  {
   "cell_type": "code",
   "execution_count": null,
   "metadata": {
    "pycharm": {
     "name": "#%%\n"
    }
   },
   "outputs": [],
   "source": [
    "import os\n",
    "import collections\n",
    "\n",
    "def flatten(d, parent_key='', sep='_'):\n",
    "    items = []\n",
    "    for k, v in d.items():\n",
    "        new_key = parent_key + sep + k if parent_key else k\n",
    "        if isinstance(v, collections.MutableMapping):\n",
    "            items.extend(flatten(v, new_key, sep=sep).items())\n",
    "        else:\n",
    "            items.append((new_key, v))\n",
    "    return dict(items)\n",
    "\n",
    "def get_all_params(bmrc_path):\n",
    "    \n",
    "    date_paths = [x for x in os.listdir(bmrc_path) if 'DS_Store' not in x]\n",
    "    runs, dates = [], []\n",
    "    for date_path in date_paths:\n",
    "        dates_ = [date_path for x in os.listdir(bmrc_path + date_path) if 'DS_Store' not in x]\n",
    "        dates.extend(dates_)\n",
    "\n",
    "        runs_ = [x[3:] for x in os.listdir(bmrc_path + date_path) if 'DS_Store' not in x] \n",
    "        runs.extend(runs_)\n",
    "\n",
    "    # load params\n",
    "    params_ = []\n",
    "    for date, run in zip(dates, runs):\n",
    "        params_1, saved_dir_1 = parameters.get_params(bmrc_path, date, run, print_where=False)\n",
    "        params_.append(flatten(params_1))\n",
    "    \n",
    "    return params_\n",
    "\n",
    "params_good = get_all_params(bmrc_path)\n",
    "params_bad = get_all_params(failed_path)\n",
    "\n",
    "# now go through all params and pull out which things are similar and which are different\n",
    "# could do all pairwise compare params...\n",
    "\n",
    "# get all keys:\n",
    "keys = []\n",
    "for param in params_good + params_bad:\n",
    "    keys.extend(param.keys())\n",
    "keys = sorted(list(set(keys)))\n",
    "\n",
    "def add_param(dict_, params_, key):\n",
    "    for param in params_:\n",
    "        try:\n",
    "            dict_[key]\n",
    "        except KeyError:\n",
    "            dict_[key] = []\n",
    "        try: \n",
    "            if isinstance(param[key], list):\n",
    "                try:\n",
    "                    dict_[key].append(np.mean(param[key]))\n",
    "                except TypeError:\n",
    "                    dict_[key].append(param[key])\n",
    "            else:\n",
    "                dict_[key].append(param[key])\n",
    "            \n",
    "        except KeyError:\n",
    "            continue\n",
    "    return dict_\n",
    "\n",
    "dict_good = {}\n",
    "dict_bad = {}\n",
    "for key in keys:\n",
    "    dict_good = add_param(dict_good, params_good, key)\n",
    "    dict_bad = add_param(dict_bad, params_bad, key)\n",
    "    \n",
    "# now compare good and bad:\n",
    "diffs_g, diffs_b = {}, {}\n",
    "for i, key in enumerate(dict_good.keys()):\n",
    "    try:\n",
    "        if len(dict_good[key]) == 0 or len(dict_bad[key]) == 0:\n",
    "            continue\n",
    "    except KeyError:\n",
    "        continue\n",
    "        \n",
    "    all_key = dict_good[key] + dict_bad[key]\n",
    "    try:\n",
    "        if len([list(x) for x in set(tuple(x) for x in all_key)]) <= 1:\n",
    "            continue\n",
    "    except TypeError:\n",
    "        if len(np.unique(all_key)) <= 1:\n",
    "            continue\n",
    "\n",
    "    diffs_g[key] = dict_good[key]\n",
    "    diffs_b[key] = dict_bad[key]"
   ]
  },
  {
   "cell_type": "code",
   "execution_count": null,
   "metadata": {
    "pycharm": {
     "name": "#%%\n"
    }
   },
   "outputs": [],
   "source": [
    "import matplotlib.pyplot as plt\n",
    "plt.figure(figsize=(16,16))\n",
    "n = int(np.ceil(np.sqrt(len(diffs_b.keys()))))\n",
    "for i, key in enumerate(diffs_g.keys()):\n",
    "    plt.subplot(n,n,i+1)\n",
    "    ax = plt.gca()\n",
    "    \n",
    "    ax.scatter([str(x) for x in diffs_g[key]], [0+np.random.randn()*0.1 for _ in diffs_g[key]], label='good')\n",
    "    ax.scatter([str(x) for x in diffs_b[key]], [1+np.random.randn()*0.1 for _ in diffs_b[key]], label='bad')\n",
    "    \n",
    "    plt.title(key, color='yellow')    \n",
    "    ax.xaxis.label.set_color('yellow')\n",
    "    ax.tick_params(axis='x', colors='yellow')\n",
    "    ax.yaxis.label.set_color('yellow')\n",
    "    ax.tick_params(axis='y', colors='yellow')\n",
    "\n",
    "ax.legend(loc='center left', bbox_to_anchor=(1, 0.5))"
   ]
  },
  {
   "cell_type": "code",
   "execution_count": null,
   "metadata": {
    "pycharm": {
     "name": "#%%\n"
    }
   },
   "outputs": [],
   "source": []
  },
  {
   "cell_type": "code",
   "execution_count": null,
   "metadata": {
    "pycharm": {
     "name": "#%%\n"
    }
   },
   "outputs": [],
   "source": []
  },
  {
   "cell_type": "code",
   "execution_count": null,
   "metadata": {
    "pycharm": {
     "name": "#%%\n"
    }
   },
   "outputs": [],
   "source": []
  },
  {
   "cell_type": "code",
   "execution_count": null,
   "metadata": {
    "pycharm": {
     "name": "#%%\n"
    }
   },
   "outputs": [],
   "source": []
  },
  {
   "cell_type": "code",
   "execution_count": null,
   "metadata": {
    "pycharm": {
     "name": "#%%\n"
    }
   },
   "outputs": [],
   "source": [
    "import os\n",
    "[x[0] for x in os.walk('../Summaries/') if 'save' in x[0] and 'run' in x[0] and 'iter' not in x[0]]"
   ]
  },
  {
   "cell_type": "code",
   "execution_count": null,
   "metadata": {
    "pycharm": {
     "name": "#%%\n"
    }
   },
   "outputs": [],
   "source": [
    "save_dirs = [bmrc_path, saved_path]\n",
    "\n",
    "# search through all saved models looking for something\n",
    "keys = ['softmax_beta'] \n",
    "vals_desired = []\n",
    "\n",
    "parameters.find_model_with_params(save_dirs, keys, vals_desired)"
   ]
  },
  {
   "cell_type": "code",
   "execution_count": null,
   "metadata": {
    "pycharm": {
     "name": "#%%\n"
    }
   },
   "outputs": [],
   "source": []
  },
  {
   "cell_type": "code",
   "execution_count": null,
   "metadata": {
    "pycharm": {
     "name": "#%%\n"
    }
   },
   "outputs": [],
   "source": []
  },
  {
   "cell_type": "code",
   "execution_count": null,
   "metadata": {
    "pycharm": {
     "name": "#%%\n"
    }
   },
   "outputs": [],
   "source": [
    "# remove most stuff from failed runs\n",
    "import shutil\n",
    "import os\n",
    "\n",
    "failed_path = '/Users/jameswhittington/Documents/DPHIL/Saved models/Failed_TEM/'\n",
    "dirs = [x for x in next(os.walk(failed_path))[1]]\n",
    "\n",
    "for dir_ in dirs:\n",
    "    directory = failed_path + dir_\n",
    "    run_dir = [x for x in next(os.walk(directory))[1] if 'run' in x]\n",
    "    for run in run_dir:\n",
    "        path = directory + '/' + run\n",
    "\n",
    "        # remove processed_runs\n",
    "        save_path = path + '/save'\n",
    "        dirs_save = [save_path + '/' + x for x in next(os.walk(save_path))[1] if 'params' not in x]\n",
    "        for dirpath in dirs_save:\n",
    "            if os.path.exists(dirpath) and os.path.isdir(dirpath):\n",
    "                shutil.rmtree(dirpath)\n",
    "                \n",
    "        # remove all but last model\n",
    "        model_path = path + '/model'\n",
    "        poss_files = [int(x.split('.index')[0].split('tem_')[1]) for x in next(os.walk(model_path))[2] if 'index' in x]\n",
    "        if len(poss_files) == 0:\n",
    "            continue\n",
    "        max_index = max(poss_files)\n",
    "        rem_model_paths = [model_path + '/' + x for x in next(os.walk(model_path))[2] if 'checkpoint' not in x and str(max_index) not in x]\n",
    "        for dirpath in rem_model_paths:\n",
    "            os.remove(dirpath)"
   ]
  },
  {
   "cell_type": "code",
   "execution_count": null,
   "metadata": {
    "pycharm": {
     "name": "#%%\n"
    }
   },
   "outputs": [],
   "source": []
  },
  {
   "cell_type": "code",
   "execution_count": null,
   "metadata": {
    "pycharm": {
     "name": "#%%\n"
    }
   },
   "outputs": [],
   "source": []
  },
  {
   "cell_type": "code",
   "execution_count": null,
   "metadata": {
    "pycharm": {
     "name": "#%%\n"
    }
   },
   "outputs": [],
   "source": [
    "# DELETING OLD SAVED FILES - ONLY AFTER SAVED ON EXTERNAL DRIVE + KEEP PARAMS FILE\n",
    "\n",
    "import shutil\n",
    "import os\n",
    "\n",
    "save_dir = '/Users/jameswhittington/Documents/DPHIL/Saved models/saved summaries/'\n",
    "old_dirs = [x for x in next(os.walk(save_dir))[1] if '2018' in x or '2019' in x or '2020' in x]\n",
    "for old_dir in old_dirs:\n",
    "    # delete all but params\n",
    "    directory = save_dir + old_dir\n",
    "    \n",
    "    # OLD STYLE FOLDER SETUP   \n",
    "    dirpaths = [directory + '/model', directory + '/train']\n",
    "    for dirpath in dirpaths:\n",
    "        if os.path.exists(dirpath) and os.path.isdir(dirpath):\n",
    "            print(dirpath)\n",
    "            shutil.rmtree(dirpath)\n",
    "    \"\"\" \n",
    "    dirpath = directory + '/save'\n",
    "    if os.path.exists(dirpath) and os.path.isdir(dirpath):        \n",
    "        try:\n",
    "            run_dir = [x for x in next(os.walk(dirpath))[1] if 'run' in x]\n",
    "            for run in run_dir:\n",
    "                path = dirpath + '/' + run\n",
    "                list_of_files = os.listdir(path)\n",
    "                for file in list_of_files:\n",
    "                    if 'par' not in file:\n",
    "                        os.remove(path + '/' + file)\n",
    "\n",
    "        except:\n",
    "            pass\n",
    "    \"\"\"\n",
    "    # NEW STYLE FOLDER SET UP\n",
    "    run_dir = [x for x in next(os.walk(directory))[1] if 'run' in x]\n",
    "    for run in run_dir:\n",
    "        path = directory + '/' + run\n",
    "        \n",
    "        dirpaths = [path + '/model', path + '/train']\n",
    "        for dirpath in dirpaths:\n",
    "            if os.path.exists(dirpath) and os.path.isdir(dirpath):\n",
    "                shutil.rmtree(dirpath)\n",
    "        \"\"\" \n",
    "        dirpath = path + '/save'\n",
    "        if os.path.exists(dirpath) and os.path.isdir(dirpath):      \n",
    "            list_of_files = os.listdir(dirpath)\n",
    "            for file in list_of_files:\n",
    "                if 'par' not in file:\n",
    "                    #print(dirpath + '/' + file)\n",
    "                    os.remove(dirpath + '/' + file)\n",
    "        \"\"\"\n"
   ]
  },
  {
   "cell_type": "code",
   "execution_count": null,
   "metadata": {
    "pycharm": {
     "name": "#%%\n"
    }
   },
   "outputs": [],
   "source": []
  }
 ],
 "metadata": {
  "kernelspec": {
   "display_name": "Python 3",
   "language": "python",
   "name": "python3"
  },
  "language_info": {
   "codemirror_mode": {
    "name": "ipython",
    "version": 3
   },
   "file_extension": ".py",
   "mimetype": "text/x-python",
   "name": "python",
   "nbconvert_exporter": "python",
   "pygments_lexer": "ipython3",
   "version": "3.11.4"
  }
 },
 "nbformat": 4,
 "nbformat_minor": 4
}
